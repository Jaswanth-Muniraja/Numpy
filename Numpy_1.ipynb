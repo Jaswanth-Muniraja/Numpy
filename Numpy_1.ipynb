{
 "cells": [
  {
   "cell_type": "markdown",
   "id": "6e98efe8",
   "metadata": {},
   "source": [
    "#### M Jaswanth"
   ]
  },
  {
   "cell_type": "markdown",
   "id": "7b006b7f-79fe-49c5-ae4b-d3d0f256a3e8",
   "metadata": {},
   "source": [
    "# Numpy"
   ]
  },
  {
   "cell_type": "markdown",
   "id": "450f511f-93ad-4fd2-af83-bd61d30df314",
   "metadata": {},
   "source": [
    "### Numpy arrays and basic"
   ]
  },
  {
   "cell_type": "code",
   "execution_count": 1,
   "id": "9afd6ce8-3c25-441f-b051-0f316522330f",
   "metadata": {},
   "outputs": [],
   "source": [
    "import numpy as np"
   ]
  },
  {
   "cell_type": "markdown",
   "id": "13f12f9c",
   "metadata": {},
   "source": [
    "NumPy is a Python library used for numerical computing, especially handling multi-dimensional arrays efficiently. It also provides tools for linear algebra, statistics, and mathematical operations.\n",
    "\n",
    "Example: In real life, if you’re analyzing sales data of a store across months and branches, NumPy arrays can store and process that data much faster than normal Python lists."
   ]
  },
  {
   "cell_type": "markdown",
   "id": "87bc520a-2aa9-4439-8247-b3a1c0d0a2b3",
   "metadata": {},
   "source": [
    "### creating array from list"
   ]
  },
  {
   "cell_type": "code",
   "execution_count": 2,
   "id": "92527fd3-af41-4f07-8eaf-f4e88d128a33",
   "metadata": {},
   "outputs": [
    {
     "name": "stdout",
     "output_type": "stream",
     "text": [
      "[1 2 3]\n"
     ]
    },
    {
     "data": {
      "text/plain": [
       "numpy.ndarray"
      ]
     },
     "execution_count": 2,
     "metadata": {},
     "output_type": "execute_result"
    }
   ],
   "source": [
    "arr_1d = np.array([1,2,3])\n",
    "print(arr_1d)\n",
    "type(arr_1d)"
   ]
  },
  {
   "cell_type": "code",
   "execution_count": 3,
   "id": "f5be5e23-82a3-4702-9aaf-3f2652aef21e",
   "metadata": {},
   "outputs": [
    {
     "name": "stdout",
     "output_type": "stream",
     "text": [
      "[[1 2 3]\n",
      " [4 5 6]\n",
      " [7 8 9]]\n"
     ]
    },
    {
     "data": {
      "text/plain": [
       "numpy.ndarray"
      ]
     },
     "execution_count": 3,
     "metadata": {},
     "output_type": "execute_result"
    }
   ],
   "source": [
    "arr_2d = np.array([[1,2,3],[4,5,6],[7,8,9]])\n",
    "print(arr_2d)\n",
    "type(arr_2d)"
   ]
  },
  {
   "cell_type": "markdown",
   "id": "2b7d24d0-063c-4305-8f8f-a0a29a93a844",
   "metadata": {},
   "source": [
    "### list vs numpy array"
   ]
  },
  {
   "cell_type": "markdown",
   "id": "9fe8c846",
   "metadata": {},
   "source": [
    "A Python list can store different data types and is flexible but slower for numerical operations.\n",
    "\n",
    "A NumPy array stores data of the same type in a contiguous block of memory, making it much faster and more memory-efficient for mathematical computations.\n",
    "\n",
    "Example: If you want to calculate the total marks of 1,000 students, a NumPy array can sum them in one step, while a Python list would need a loop and take more time."
   ]
  },
  {
   "cell_type": "code",
   "execution_count": 7,
   "id": "aec16bd1-1ed1-497b-bb30-37931320e7b6",
   "metadata": {},
   "outputs": [
    {
     "name": "stdout",
     "output_type": "stream",
     "text": [
      "[1, 2, 3]\n",
      "[1, 2, 3, 1, 2, 3]\n"
     ]
    }
   ],
   "source": [
    "py_List = [1,2,3]\n",
    "print(py_List)\n",
    "print(py_List*2)"
   ]
  },
  {
   "cell_type": "code",
   "execution_count": 10,
   "id": "80378fec-a1c6-4d70-bd86-5e41cd534f09",
   "metadata": {},
   "outputs": [
    {
     "name": "stdout",
     "output_type": "stream",
     "text": [
      "Python list multiplication  [1, 2, 3, 1, 2, 3]\n",
      "python array multiplication [2 4 6]\n"
     ]
    }
   ],
   "source": [
    "py_list = [1,2,3]\n",
    "print(\"Python list multiplication \" , py_list * 2)\n",
    "np_array = np.array( [1, 2, 3]) #element wise multiplication\n",
    "print(\"python array multiplication\",np_array * 2)"
   ]
  },
  {
   "cell_type": "code",
   "execution_count": 12,
   "id": "37c047cf-9fb1-45a0-99e3-d801fbc9c85c",
   "metadata": {},
   "outputs": [
    {
     "name": "stdout",
     "output_type": "stream",
     "text": [
      "\n",
      " List Operation time:  0.15500879287719727\n",
      "\n",
      " Numpy Operation time:  0.011174678802490234\n"
     ]
    }
   ],
   "source": [
    "import time\n",
    "start = time.time()\n",
    "py_list = [i*2 for i in range(1000000)]\n",
    "print(\"\\n List Operation time: \", time.time() - start)\n",
    "start = time.time()\n",
    "np_array2 = np.arange(1000000)*2\n",
    "print(\"\\n Numpy Operation time: \", time.time() - start)"
   ]
  },
  {
   "cell_type": "markdown",
   "id": "c99791a2-9670-43b3-b3ce-5b6b0b0e2270",
   "metadata": {},
   "source": [
    "### creating array from scratch"
   ]
  },
  {
   "cell_type": "code",
   "execution_count": 13,
   "id": "7e42d54e-7217-43a1-9528-882f2ae0670d",
   "metadata": {},
   "outputs": [
    {
     "name": "stdout",
     "output_type": "stream",
     "text": [
      "[[0. 0. 0.]\n",
      " [0. 0. 0.]]\n",
      "[[1. 1. 1.]\n",
      " [1. 1. 1.]]\n"
     ]
    }
   ],
   "source": [
    "zeros = np.zeros((2,3))\n",
    "ones = np.ones((2,3))\n",
    "print(zeros)\n",
    "print(ones)"
   ]
  },
  {
   "cell_type": "code",
   "execution_count": 6,
   "id": "8b0ddeea-b055-49b9-b01e-139a48687713",
   "metadata": {},
   "outputs": [
    {
     "name": "stdout",
     "output_type": "stream",
     "text": [
      "[[7 7 7]\n",
      " [7 7 7]]\n"
     ]
    }
   ],
   "source": [
    "full = np.full((2,3),7)\n",
    "print(full)"
   ]
  },
  {
   "cell_type": "code",
   "execution_count": 17,
   "id": "ff622d8c-b75c-49f7-ace4-5e8e6a961015",
   "metadata": {},
   "outputs": [
    {
     "name": "stdout",
     "output_type": "stream",
     "text": [
      "[[0.15104535 0.0443557  0.58028846]\n",
      " [0.12879131 0.51981162 0.27476108]]\n"
     ]
    }
   ],
   "source": [
    "random = np.random.random((2,3))\n",
    "print(random)"
   ]
  },
  {
   "cell_type": "code",
   "execution_count": 7,
   "id": "bb3b430e-8916-4de5-8d32-6f0e7213de01",
   "metadata": {},
   "outputs": [
    {
     "data": {
      "text/plain": [
       "array([[2, 5, 4],\n",
       "       [5, 4, 5],\n",
       "       [0, 4, 2]])"
      ]
     },
     "execution_count": 7,
     "metadata": {},
     "output_type": "execute_result"
    }
   ],
   "source": [
    "np.random.randint(0, 10, size=(3, 3))"
   ]
  },
  {
   "cell_type": "code",
   "execution_count": 4,
   "id": "b4b45082-22d7-463f-a6e0-381282527373",
   "metadata": {},
   "outputs": [
    {
     "name": "stdout",
     "output_type": "stream",
     "text": [
      "[0 1 2 3 4 5 6 7 8 9]\n",
      "[0 2 4 6 8]\n"
     ]
    }
   ],
   "source": [
    "sequence = np.arange(10)\n",
    "print(sequence)\n",
    "sequence = np.arange(0,10,2)\n",
    "print(sequence)"
   ]
  },
  {
   "cell_type": "markdown",
   "id": "3de54adf-efde-42ba-8085-516a70b97f3a",
   "metadata": {},
   "source": [
    "### vector, Matrix and Tensor"
   ]
  },
  {
   "cell_type": "markdown",
   "id": "a48d76f9",
   "metadata": {},
   "source": [
    "Vector → A 1-D array (like a list of numbers).\n",
    "Example: A student’s marks in 5 subjects → [85, 90, 78, 92, 88].\n",
    "\n",
    "Matrix → A 2-D array (rows × columns).\n",
    "Example: Marks of 3 students in 5 subjects → a table with 3 rows and 5 columns.\n",
    "\n",
    "Tensor → A multi-dimensional array (3-D or higher).\n",
    "Example: A stack of matrices, like storing marks of students across multiple semesters."
   ]
  },
  {
   "cell_type": "code",
   "execution_count": 20,
   "id": "325df836-194d-4991-ad1f-30c8ad13fb1a",
   "metadata": {},
   "outputs": [
    {
     "name": "stdout",
     "output_type": "stream",
     "text": [
      "[1 2 3]\n"
     ]
    }
   ],
   "source": [
    "vector = np.array([1,2,3])\n",
    "print(vector)"
   ]
  },
  {
   "cell_type": "code",
   "execution_count": 21,
   "id": "9792d858-4f7b-41fd-9932-0f344c46d711",
   "metadata": {},
   "outputs": [
    {
     "name": "stdout",
     "output_type": "stream",
     "text": [
      "[[1 2 3]\n",
      " [4 5 6]]\n"
     ]
    }
   ],
   "source": [
    "matrix = np.array([[1,2,3],[4,5,6]])\n",
    "print(matrix)"
   ]
  },
  {
   "cell_type": "code",
   "execution_count": 7,
   "id": "7af2151f-8afa-4caf-a01e-c5085d021bde",
   "metadata": {},
   "outputs": [
    {
     "name": "stdout",
     "output_type": "stream",
     "text": [
      "[[[1 2]\n",
      "  [3 4]]\n",
      "\n",
      " [[5 6]\n",
      "  [6 7]]]\n",
      "3\n"
     ]
    }
   ],
   "source": [
    "tensor = np.array([[[1,2],[3,4]],[[5,6],[6,7]]]) # multidimensional arrays\n",
    "print(tensor)\n",
    "print(tensor.ndim)"
   ]
  },
  {
   "cell_type": "markdown",
   "id": "719aaa5a-5d09-45ec-a15b-5cc0b9d39c86",
   "metadata": {},
   "source": [
    "### Array properties"
   ]
  },
  {
   "cell_type": "code",
   "execution_count": 24,
   "id": "00a5d91d-6cac-409f-8d42-3c3dfaaafc1d",
   "metadata": {},
   "outputs": [
    {
     "name": "stdout",
     "output_type": "stream",
     "text": [
      "Shape (2, 3)\n",
      "Dimension 2\n",
      "size 6\n",
      "DataType int32\n"
     ]
    }
   ],
   "source": [
    "arr = np.array([[1,2,3],[3,4,5]])\n",
    "print(\"Shape\",arr.shape)\n",
    "print(\"Dimension\",arr.ndim)\n",
    "print(\"size\",arr.size)\n",
    "print(\"DataType\",arr.dtype)"
   ]
  },
  {
   "cell_type": "markdown",
   "id": "f007feae-b930-41ce-8a4c-56b601dd6165",
   "metadata": {},
   "source": [
    "### array reshaping"
   ]
  },
  {
   "cell_type": "markdown",
   "id": "e737196d",
   "metadata": {},
   "source": [
    "Array reshaping in NumPy means changing the shape/dimensions of an array without changing its data.\n",
    "\n",
    "Common Methods:\n",
    "\n",
    "reshape() – Changes shape to given dimensions.\n",
    "Real life: Reshaping a flat list of 6 exam scores into a 2×3 table.\n",
    "\n",
    "ravel() – Flattens array into 1-D (returns a view if possible).\n",
    "Example: 2x3 → 1x6\n",
    "Real life: Taking all marks from a table and lining them in a single row.\n",
    "\n",
    "flatten() – Also flattens to 1-D but always returns a copy.\n",
    "Example: Similar to ravel() but safer when you don’t want changes to affect the original.\n",
    "\n",
    "resize() – Changes shape and size in-place. If needed, repeats data to fill.\n",
    "Example: (3,) → (2,3) → fills extra spots by repeating elements.\n",
    "Real life: Resizing attendance data to fit a fixed format sheet.\n",
    "\n",
    "transpose() / .T – Swaps dimensions (rows ↔ columns).\n",
    "Example: Student marks table → subjects vs students.\n",
    "\n",
    "squeeze() – Removes dimensions of size 1.\n",
    "Example: Shape (1,5,1) → (5,).\n",
    "Real life: Removing unnecessary empty columns in data."
   ]
  },
  {
   "cell_type": "code",
   "execution_count": 12,
   "id": "a6a08861-df31-40bc-9a9b-ad94fce853c8",
   "metadata": {},
   "outputs": [
    {
     "name": "stdout",
     "output_type": "stream",
     "text": [
      "Original array [ 0  1  2  3  4  5  6  7  8  9 10 11]\n"
     ]
    }
   ],
   "source": [
    "arr = np.arange(12)\n",
    "print(\"Original array\",arr)"
   ]
  },
  {
   "cell_type": "code",
   "execution_count": 8,
   "id": "4a1fd8d4-3f21-4ec4-8279-a6d6cd26fe92",
   "metadata": {},
   "outputs": [
    {
     "name": "stdout",
     "output_type": "stream",
     "text": [
      "[ 1  2  3  4  5  6  7  8  9 10]\n"
     ]
    }
   ],
   "source": [
    "arr = np.arange(1,11)\n",
    "print(arr)"
   ]
  },
  {
   "cell_type": "code",
   "execution_count": 13,
   "id": "63be1a82-0747-4f54-8d7e-cecccd7718e9",
   "metadata": {},
   "outputs": [
    {
     "name": "stdout",
     "output_type": "stream",
     "text": [
      "\n",
      " Reshaped array [[ 0  1  2  3]\n",
      " [ 4  5  6  7]\n",
      " [ 8  9 10 11]]\n"
     ]
    }
   ],
   "source": [
    "reshaped = arr.reshape((3,4))\n",
    "print(\"\\n Reshaped array\",reshaped)"
   ]
  },
  {
   "cell_type": "code",
   "execution_count": null,
   "id": "31457e8b-c6e9-4d28-b613-79c318d2214d",
   "metadata": {},
   "outputs": [
    {
     "name": "stdout",
     "output_type": "stream",
     "text": [
      "\n",
      " flattened array [ 0  1  2  3  4  5  6  7  8  9 10 11]\n"
     ]
    }
   ],
   "source": [
    "flattened = reshaped.flatten()\n",
    "print(\"\\n flattened array\", flattened)"
   ]
  },
  {
   "cell_type": "code",
   "execution_count": 34,
   "id": "a9e985d2-02d5-4adb-8794-145e8f50f062",
   "metadata": {},
   "outputs": [
    {
     "name": "stdout",
     "output_type": "stream",
     "text": [
      "\n",
      " raveled array [ 0  1  2  3  4  5  6  7  8  9 10 11]\n"
     ]
    }
   ],
   "source": [
    "# ravel (returns view or original, instead of copy)\n",
    "raveled = reshaped.ravel()\n",
    "print(\"\\n raveled array\", raveled)"
   ]
  },
  {
   "cell_type": "code",
   "execution_count": 35,
   "id": "9f6ce2f9-80a5-4321-a831-931bff435172",
   "metadata": {},
   "outputs": [
    {
     "name": "stdout",
     "output_type": "stream",
     "text": [
      "\n",
      " Transposed array [[ 0  4  8]\n",
      " [ 1  5  9]\n",
      " [ 2  6 10]\n",
      " [ 3  7 11]]\n"
     ]
    }
   ],
   "source": [
    "Transpose = reshaped.T\n",
    "print(\"\\n Transposed array\", Transpose)"
   ]
  },
  {
   "cell_type": "code",
   "execution_count": 20,
   "id": "fc608847",
   "metadata": {},
   "outputs": [
    {
     "name": "stdout",
     "output_type": "stream",
     "text": [
      "[[ 0  1  2]\n",
      " [ 3  4  5]\n",
      " [ 6  7  8]\n",
      " [ 9 10 11]]\n"
     ]
    }
   ],
   "source": [
    "squeeze = reshaped.squeeze();\n",
    "print(squeeze)"
   ]
  },
  {
   "cell_type": "markdown",
   "id": "76140a43-9027-4395-86d0-9ffec6c7c36d",
   "metadata": {},
   "source": [
    "### Array Numpy Operations"
   ]
  },
  {
   "cell_type": "markdown",
   "id": "e9f8623f-6867-40f4-b787-0e7d79e5804e",
   "metadata": {},
   "source": [
    "#### slicing"
   ]
  },
  {
   "cell_type": "markdown",
   "id": "881b2327",
   "metadata": {},
   "source": [
    "Slicing in NumPy means extracting a part of the array using index ranges.\n",
    "It follows the format:\n",
    "\n",
    "array[start:end:step]\n",
    "\n",
    "Examples:\n",
    "\n",
    "1D Array\n",
    "\n",
    "arr = np.array([10,20,30,40,50])\n",
    "\n",
    "arr[1:4]   # [20,30,40]\n",
    "\n",
    "\n",
    "👉 Like picking roll numbers 2 to 4 from a list.\n",
    "\n",
    "2D Array (rows × columns)\n",
    "\n",
    "arr = np.array([[1,2,3],[4,5,6],[7,8,9]])\n",
    "\n",
    "arr[0:2, 1:3]  # [[2,3],[5,6]]\n",
    "\n",
    "\n",
    "👉 Like selecting marks of first 2 students but only in 2 subjects.\n",
    "\n",
    "Step slicing\n",
    "\n",
    "arr[::2]   # every 2nd element"
   ]
  },
  {
   "cell_type": "code",
   "execution_count": 37,
   "id": "6abb37c9-ee84-4fba-a43e-ed90ba62ccc2",
   "metadata": {},
   "outputs": [
    {
     "name": "stdout",
     "output_type": "stream",
     "text": [
      "Basic slicing [3 4 5 6 7]\n",
      "with step [2 4 6 8]\n",
      "Negative indexing 8\n"
     ]
    }
   ],
   "source": [
    "arr = np.array([1,2,3,4,5,6,7,8,9,10])\n",
    "print(\"Basic slicing\", arr[2:7])\n",
    "print(\"with step\",arr[1:8:2])\n",
    "print(\"Negative indexing\",arr[-3])"
   ]
  },
  {
   "cell_type": "code",
   "execution_count": 41,
   "id": "3ac10a63-c262-491a-a03e-d746d8ee1421",
   "metadata": {},
   "outputs": [
    {
     "name": "stdout",
     "output_type": "stream",
     "text": [
      "Specific Element 6\n",
      "Entire row [4 5 6]\n",
      "Entire column [2 5 8]\n"
     ]
    }
   ],
   "source": [
    "arr_2d = np.array([[1,2,3],[4,5,6],[7,8,9]])\n",
    "print(\"Specific Element\",arr_2d[1,2])\n",
    "print(\"Entire row\",arr_2d[1])\n",
    "print(\"Entire column\",arr_2d[:,1])"
   ]
  },
  {
   "cell_type": "markdown",
   "id": "8d8237d0-25d9-4124-89a7-1c103508a24d",
   "metadata": {},
   "source": [
    "#### sorting"
   ]
  },
  {
   "cell_type": "markdown",
   "id": "0aff0265",
   "metadata": {},
   "source": [
    "Sorting in NumPy means arranging elements of an array in ascending (default) or descending order.\n",
    "\n",
    "Methods:\n",
    "\n",
    "np.sort(array) – Returns a sorted copy (doesn’t change original).\n",
    "\n",
    "arr = np.array([30,10,20])\n",
    "\n",
    "np.sort(arr)   # [10,20,30]\n",
    "\n",
    "\n",
    "👉 Like sorting student marks from lowest to highest.\n",
    "\n",
    "array.sort() – Sorts the array in-place (changes original).\n",
    "\n",
    "Sorting 2D arrays\n",
    "\n",
    "arr = np.array([[3,1,2],[9,7,8]])\n",
    "\n",
    "np.sort(arr, axis=1)  # sort each row\n",
    "\n",
    "np.sort(arr, axis=0)  # sort each column\n",
    "\n",
    "\n",
    "👉 Example: Sorting marks of each student individually (row-wise) vs. sorting subject-wise across students (column-wise).\n",
    "\n",
    "np.argsort(array) – Returns indices that would sort the array.\n",
    "👉 Example: Getting student roll numbers in order of their marks."
   ]
  },
  {
   "cell_type": "code",
   "execution_count": null,
   "id": "2bad6e81-d030-43ae-ad66-ae970e67780a",
   "metadata": {},
   "outputs": [
    {
     "name": "stdout",
     "output_type": "stream",
     "text": [
      "sorted array [1 2 2 4 5 6]\n"
     ]
    }
   ],
   "source": [
    "unsorted = np.array([1,4,2,6,5,2])\n",
    "print(\"sorted array\",np.sort(unsorted))"
   ]
  },
  {
   "cell_type": "code",
   "execution_count": 12,
   "id": "b5289bfc-1e6d-4fd8-8a06-1494acb64898",
   "metadata": {},
   "outputs": [
    {
     "name": "stdout",
     "output_type": "stream",
     "text": [
      "Sorted 2D array [[4 3 6]\n",
      " [8 7 9]]\n",
      "Sorted 2D array [[3 4 9]\n",
      " [6 7 8]]\n"
     ]
    }
   ],
   "source": [
    "unsorted_2d = np.array([[4,3,9],[8,7,6]])\n",
    "print(\"Sorted 2D array\", np.sort(unsorted_2d,axis = 0))\n",
    "print(\"Sorted 2D array\", np.sort(unsorted_2d,axis = 1))"
   ]
  },
  {
   "cell_type": "code",
   "execution_count": 10,
   "id": "2e8c5018-6375-4827-8c7d-3b97a8043b62",
   "metadata": {},
   "outputs": [
    {
     "name": "stdout",
     "output_type": "stream",
     "text": [
      "Sorted 2D array [[3 3 2]\n",
      " [8 7 5]]\n",
      "Sorted 2D array [[3 5 7]\n",
      " [2 3 8]]\n"
     ]
    }
   ],
   "source": [
    "unsorted_2d = np.array([[3,7,5],[8,3,2]])\n",
    "print(\"Sorted 2D array\", np.sort(unsorted_2d,axis = 0))\n",
    "print(\"Sorted 2D array\", np.sort(unsorted_2d,axis = 1))"
   ]
  },
  {
   "cell_type": "code",
   "execution_count": 49,
   "id": "bbffbd62-85ee-4808-a0b7-2f3ebdd2b149",
   "metadata": {},
   "outputs": [
    {
     "name": "stdout",
     "output_type": "stream",
     "text": [
      "Sorted 2D array [[2 1]\n",
      " [3 1]\n",
      " [3 2]]\n"
     ]
    }
   ],
   "source": [
    "unsorted_2d = np.array([[3,1],[3,2],[2,1]])\n",
    "print(\"Sorted 2D array\", np.sort(unsorted_2d,axis = 0))"
   ]
  },
  {
   "cell_type": "markdown",
   "id": "02190382-d762-45c9-a51b-c8b2d0c616ed",
   "metadata": {},
   "source": [
    "#### Filter"
   ]
  },
  {
   "cell_type": "markdown",
   "id": "e74cba87",
   "metadata": {},
   "source": [
    "Filtering in NumPy means selecting elements from an array based on a condition (Boolean indexing).\n",
    "\n",
    "Example:\n",
    "arr = np.array([10, 20, 30, 40, 50])\n",
    "filter = arr > 25\n",
    "result = arr[filter]   # [30, 40, 50]\n",
    "\n",
    "\n",
    "👉 Like filtering students who scored more than 25 marks.\n",
    "\n",
    "🔹 Does it change the original array?\n",
    "No ❌, filtering creates a new array. The original stays unchanged unless you explicitly reassign it."
   ]
  },
  {
   "cell_type": "code",
   "execution_count": 21,
   "id": "8e3f109e-ffec-4667-a25b-08f926c6708d",
   "metadata": {},
   "outputs": [
    {
     "name": "stdout",
     "output_type": "stream",
     "text": [
      "Even numbers [ 2  4  6  8 10]\n"
     ]
    }
   ],
   "source": [
    "numbers = np.array([1,2,3,4,5,6,7,8,9,10])\n",
    "even_number = numbers[numbers%2 == 0]\n",
    "print(\"Even numbers\",even_number)"
   ]
  },
  {
   "cell_type": "markdown",
   "id": "9b6dba8f-5ef5-4ea7-a041-2516eb5a069d",
   "metadata": {},
   "source": [
    "#### Filter with mask"
   ]
  },
  {
   "cell_type": "code",
   "execution_count": 65,
   "id": "0734c31a-cc22-4e1b-a404-6a268cc0c671",
   "metadata": {},
   "outputs": [
    {
     "name": "stdout",
     "output_type": "stream",
     "text": [
      "[False False False False False  True  True  True  True  True]\n",
      "Numbers greater than 5 [ 6  7  8  9 10]\n"
     ]
    }
   ],
   "source": [
    "mask = numbers>5\n",
    "print(mask)\n",
    "print(\"Numbers greater than 5\",numbers[mask])"
   ]
  },
  {
   "cell_type": "markdown",
   "id": "d35b169c-1a7d-4825-b880-9db201fc0564",
   "metadata": {},
   "source": [
    "#### Fancy indexing vs np.where()"
   ]
  },
  {
   "cell_type": "code",
   "execution_count": 61,
   "id": "8e988bff-3916-4440-8a1b-e779af686d11",
   "metadata": {},
   "outputs": [
    {
     "name": "stdout",
     "output_type": "stream",
     "text": [
      "[1 3 5]\n"
     ]
    }
   ],
   "source": [
    "indices = [0,2,4]\n",
    "print(numbers[indices])"
   ]
  },
  {
   "cell_type": "markdown",
   "id": "ac64b378",
   "metadata": {},
   "source": [
    "np.where is used to return indices where a condition is true, or to apply a condition and return values accordingly.\n",
    "\n",
    "1. Get Indices\n",
    "arr = np.array([10,20,30,40])\n",
    "\n",
    "np.where(arr > 25)   # (array([2, 3]),)\n",
    "\n",
    "\n",
    "👉 Tells positions of students scoring above 25.\n",
    "\n",
    "2. Conditional Selection\n",
    "\n",
    "np.where(arr > 25, \"Pass\", \"Fail\") # ['Fail','Fail','Pass','Pass']\n",
    "\n",
    "\n",
    "👉 Replaces values based on condition (like marking Pass/Fail).\n",
    "\n",
    "📌 When to use?\n",
    "\n",
    "To find positions of elements meeting a condition.\n",
    "\n",
    "To replace/label data based on a condition."
   ]
  },
  {
   "cell_type": "code",
   "execution_count": 22,
   "id": "3bf64383-b60d-4fa3-80ad-1531f6022c15",
   "metadata": {},
   "outputs": [
    {
     "name": "stdout",
     "output_type": "stream",
     "text": [
      "(array([5, 6, 7, 8, 9], dtype=int64),)\n",
      "NP where [ 6  7  8  9 10]\n"
     ]
    }
   ],
   "source": [
    "where_result  = np.where(numbers>5)\n",
    "print(where_result)\n",
    "print(\"NP where\",numbers[where_result])"
   ]
  },
  {
   "cell_type": "markdown",
   "id": "ba0c9f04",
   "metadata": {},
   "source": [
    "np.where(condition, if true what to perform, else what to perform)"
   ]
  },
  {
   "cell_type": "code",
   "execution_count": 70,
   "id": "3f5ec909-3f83-4285-a386-203d0b2e3d41",
   "metadata": {},
   "outputs": [
    {
     "name": "stdout",
     "output_type": "stream",
     "text": [
      "['false' 'false' 'false' 'false' 'false' 'true' 'true' 'true' 'true'\n",
      " 'true']\n"
     ]
    }
   ],
   "source": [
    "condition_array = np.where(numbers>5,\"true\",\"false\") \n",
    "print(condition_array)"
   ]
  },
  {
   "cell_type": "code",
   "execution_count": null,
   "id": "6a54a915-ab6d-4d11-a75e-34e722cbbf6b",
   "metadata": {},
   "outputs": [
    {
     "name": "stdout",
     "output_type": "stream",
     "text": [
      "[ 1  2  3  4  5 12 14 16 18 20]\n"
     ]
    }
   ],
   "source": [
    "condition_array = np.where(numbers>5,numbers*2,numbers) # where creates array with specific conditions\n",
    "print(condition_array)"
   ]
  },
  {
   "cell_type": "markdown",
   "id": "b25eb9d6-887e-430e-9d57-0ec25eb761a8",
   "metadata": {},
   "source": [
    "#### Adding and removing data"
   ]
  },
  {
   "cell_type": "code",
   "execution_count": 71,
   "id": "f53a85e8-6b79-4a9c-bf9d-4531d8dc94d7",
   "metadata": {},
   "outputs": [
    {
     "name": "stdout",
     "output_type": "stream",
     "text": [
      "[ 1  2  3  4  5  6  7  8  9 10]\n"
     ]
    }
   ],
   "source": [
    "arr1 = np.array([1,2,3,4,5])\n",
    "arr2 = np.array([6,7,8,9,10])\n",
    "combined = np.concatenate((arr1,arr2))\n",
    "print(combined)"
   ]
  },
  {
   "cell_type": "markdown",
   "id": "950c7940-3422-4308-b675-d2ae9ae9bbc4",
   "metadata": {},
   "source": [
    "#### array compatibility"
   ]
  },
  {
   "cell_type": "code",
   "execution_count": 73,
   "id": "7b1635a6-b75d-4048-ba83-835750e52952",
   "metadata": {},
   "outputs": [
    {
     "name": "stdout",
     "output_type": "stream",
     "text": [
      "Compatibility shapes False\n"
     ]
    }
   ],
   "source": [
    "a = np.array([1,2,3])\n",
    "b = np.array([4,5,6,0])\n",
    "c = np.array([7,8,9])\n",
    "print(\"Compatibility shapes\", a.shape == b.shape)"
   ]
  },
  {
   "cell_type": "code",
   "execution_count": 31,
   "id": "06668a4b-6f08-401a-86c8-d915db94da26",
   "metadata": {},
   "outputs": [
    {
     "name": "stdout",
     "output_type": "stream",
     "text": [
      "[[1 2]\n",
      " [3 4]]\n",
      "[[1 2]\n",
      " [3 4]\n",
      " [5 6]]\n"
     ]
    }
   ],
   "source": [
    "original = np.array([[1,2],[3,4]])\n",
    "new_row = np.array([[5,6]])\n",
    "with_new_row = np.vstack((original,new_row))\n",
    "print(original)\n",
    "print(with_new_row)"
   ]
  },
  {
   "cell_type": "code",
   "execution_count": 32,
   "id": "23da2868-0609-4422-bbd6-5def8401af44",
   "metadata": {},
   "outputs": [
    {
     "name": "stdout",
     "output_type": "stream",
     "text": [
      "[[1 2 7]\n",
      " [3 4 8]]\n"
     ]
    }
   ],
   "source": [
    "new_col = np.array([[7],[8]])\n",
    "with_new_column = np.hstack((original,new_col))\n",
    "print(with_new_column)"
   ]
  },
  {
   "cell_type": "markdown",
   "id": "4ee40f12-2794-440f-becc-fc51c32d23b7",
   "metadata": {},
   "source": [
    "#### delete"
   ]
  },
  {
   "cell_type": "code",
   "execution_count": 81,
   "id": "bf3e9d03-3076-42a0-b6c4-a6d4c7170541",
   "metadata": {},
   "outputs": [
    {
     "name": "stdout",
     "output_type": "stream",
     "text": [
      "[1 2 4]\n"
     ]
    }
   ],
   "source": [
    "arr = np.array([1,2,3,4])\n",
    "deleted= np.delete(arr,2)\n",
    "print(deleted)"
   ]
  },
  {
   "cell_type": "markdown",
   "id": "cee8cc8c",
   "metadata": {},
   "source": [
    "np.random.rand() → Generates numbers from a uniform distribution between 0 and 1.\n",
    "Example: np.random.rand(3) → [0.23, 0.77, 0.54]\n",
    "\n",
    "np.random.randn() → Generates numbers from a standard normal distribution (mean 0, std 1).\n",
    "Example: np.random.randn(3) → [0.45, -1.23, 0.67]\n",
    "\n",
    "Real life:\n",
    "\n",
    "rand() → Like rolling a fair dice and dividing by 6.\n",
    "\n",
    "randn() → Like measuring heights of people, which cluster around average."
   ]
  },
  {
   "cell_type": "markdown",
   "id": "ad9510ac",
   "metadata": {},
   "source": [
    "Uniform Distribution → Every value in a given range has an equal probability of occurring.\n",
    "👉 Example: Rolling a fair dice (1–6 all equally likely).\n",
    "\n",
    "Normal Distribution → Data is distributed in a bell curve: most values are around the mean, and fewer values occur at extremes.\n",
    "👉 Example: Students’ exam scores usually cluster around the average, with very few scoring extremely low or high.\n",
    "\n",
    "📌 In NumPy,\n",
    "\n",
    "np.random.uniform(low, high, size) → generates uniform distribution.\n",
    "\n",
    "np.random.normal(mean, std, size) → generates normal distribution."
   ]
  },
  {
   "cell_type": "code",
   "execution_count": 33,
   "id": "106e008e-7f11-406d-8843-d93c091cb04c",
   "metadata": {},
   "outputs": [
    {
     "data": {
      "text/plain": [
       "array([[0.88434169, 0.62685467, 0.3049596 ],\n",
       "       [0.04558504, 0.0228787 , 0.33171746],\n",
       "       [0.83349105, 0.9235345 , 0.21307882]])"
      ]
     },
     "execution_count": 33,
     "metadata": {},
     "output_type": "execute_result"
    }
   ],
   "source": [
    "np.random.rand(3, 3)  # Uniform distribution"
   ]
  },
  {
   "cell_type": "code",
   "execution_count": 5,
   "id": "bea360be-527c-480e-b001-7dc2b857779b",
   "metadata": {},
   "outputs": [
    {
     "data": {
      "text/plain": [
       "array([[-0.11929595, -0.08069572, -1.55521425],\n",
       "       [-0.40680632, -0.65318041, -1.35482259],\n",
       "       [ 0.13034221,  0.57204575,  2.07937193]])"
      ]
     },
     "execution_count": 5,
     "metadata": {},
     "output_type": "execute_result"
    }
   ],
   "source": [
    "np.random.randn(3, 3) # Normal distribution"
   ]
  },
  {
   "cell_type": "code",
   "execution_count": null,
   "id": "8f87717f-8003-4c6b-b39c-22c2584859f5",
   "metadata": {},
   "outputs": [],
   "source": []
  }
 ],
 "metadata": {
  "kernelspec": {
   "display_name": "base",
   "language": "python",
   "name": "python3"
  },
  "language_info": {
   "codemirror_mode": {
    "name": "ipython",
    "version": 3
   },
   "file_extension": ".py",
   "mimetype": "text/x-python",
   "name": "python",
   "nbconvert_exporter": "python",
   "pygments_lexer": "ipython3",
   "version": "3.11.7"
  }
 },
 "nbformat": 4,
 "nbformat_minor": 5
}
